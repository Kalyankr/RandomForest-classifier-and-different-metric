{
 "cells": [
  {
   "cell_type": "code",
   "execution_count": 1,
   "metadata": {},
   "outputs": [],
   "source": [
    "import pandas as pd\n",
    "import numpy as np\n",
    "from urllib.request import urlopen\n",
    "import sys\n",
    "import warnings\n",
    "\n",
    "if not sys.warnoptions:\n",
    "    warnings.simplefilter(\"ignore\")"
   ]
  },
  {
   "cell_type": "code",
   "execution_count": 2,
   "metadata": {},
   "outputs": [],
   "source": [
    "# Loading data and cleaning dataset\n",
    "UCI_data_URL = 'https://archive.ics.uci.edu/ml/machine-learning-databases\\\n",
    "/breast-cancer-wisconsin/wdbc.data'"
   ]
  },
  {
   "cell_type": "code",
   "execution_count": 3,
   "metadata": {},
   "outputs": [],
   "source": [
    "names = ['id_number', 'diagnosis', 'radius_mean',\n",
    "         'texture_mean', 'perimeter_mean', 'area_mean',\n",
    "         'smoothness_mean', 'compactness_mean',\n",
    "         'concavity_mean','concave_points_mean',\n",
    "         'symmetry_mean', 'fractal_dimension_mean',\n",
    "         'radius_se', 'texture_se', 'perimeter_se',\n",
    "         'area_se', 'smoothness_se', 'compactness_se',\n",
    "         'concavity_se', 'concave_points_se',\n",
    "         'symmetry_se', 'fractal_dimension_se',\n",
    "         'radius_worst', 'texture_worst',\n",
    "         'perimeter_worst', 'area_worst',\n",
    "         'smoothness_worst', 'compactness_worst',\n",
    "         'concavity_worst', 'concave_points_worst',\n",
    "         'symmetry_worst', 'fractal_dimension_worst']\n",
    "dx = ['Benign', 'Malignant']"
   ]
  },
  {
   "cell_type": "code",
   "execution_count": 4,
   "metadata": {},
   "outputs": [],
   "source": [
    "data=pd.read_csv(urlopen(UCI_data_URL),names=names)"
   ]
  },
  {
   "cell_type": "code",
   "execution_count": 5,
   "metadata": {},
   "outputs": [
    {
     "data": {
      "text/plain": [
       "(569, 32)"
      ]
     },
     "execution_count": 5,
     "metadata": {},
     "output_type": "execute_result"
    }
   ],
   "source": [
    "data.shape"
   ]
  },
  {
   "cell_type": "code",
   "execution_count": 6,
   "metadata": {},
   "outputs": [
    {
     "data": {
      "text/html": [
       "<div>\n",
       "<style scoped>\n",
       "    .dataframe tbody tr th:only-of-type {\n",
       "        vertical-align: middle;\n",
       "    }\n",
       "\n",
       "    .dataframe tbody tr th {\n",
       "        vertical-align: top;\n",
       "    }\n",
       "\n",
       "    .dataframe thead th {\n",
       "        text-align: right;\n",
       "    }\n",
       "</style>\n",
       "<table border=\"1\" class=\"dataframe\">\n",
       "  <thead>\n",
       "    <tr style=\"text-align: right;\">\n",
       "      <th></th>\n",
       "      <th>id_number</th>\n",
       "      <th>diagnosis</th>\n",
       "      <th>radius_mean</th>\n",
       "      <th>texture_mean</th>\n",
       "      <th>perimeter_mean</th>\n",
       "      <th>area_mean</th>\n",
       "      <th>smoothness_mean</th>\n",
       "      <th>compactness_mean</th>\n",
       "      <th>concavity_mean</th>\n",
       "      <th>concave_points_mean</th>\n",
       "      <th>...</th>\n",
       "      <th>radius_worst</th>\n",
       "      <th>texture_worst</th>\n",
       "      <th>perimeter_worst</th>\n",
       "      <th>area_worst</th>\n",
       "      <th>smoothness_worst</th>\n",
       "      <th>compactness_worst</th>\n",
       "      <th>concavity_worst</th>\n",
       "      <th>concave_points_worst</th>\n",
       "      <th>symmetry_worst</th>\n",
       "      <th>fractal_dimension_worst</th>\n",
       "    </tr>\n",
       "  </thead>\n",
       "  <tbody>\n",
       "    <tr>\n",
       "      <th>0</th>\n",
       "      <td>842302</td>\n",
       "      <td>M</td>\n",
       "      <td>17.99</td>\n",
       "      <td>10.38</td>\n",
       "      <td>122.80</td>\n",
       "      <td>1001.0</td>\n",
       "      <td>0.11840</td>\n",
       "      <td>0.27760</td>\n",
       "      <td>0.3001</td>\n",
       "      <td>0.14710</td>\n",
       "      <td>...</td>\n",
       "      <td>25.38</td>\n",
       "      <td>17.33</td>\n",
       "      <td>184.60</td>\n",
       "      <td>2019.0</td>\n",
       "      <td>0.1622</td>\n",
       "      <td>0.6656</td>\n",
       "      <td>0.7119</td>\n",
       "      <td>0.2654</td>\n",
       "      <td>0.4601</td>\n",
       "      <td>0.11890</td>\n",
       "    </tr>\n",
       "    <tr>\n",
       "      <th>1</th>\n",
       "      <td>842517</td>\n",
       "      <td>M</td>\n",
       "      <td>20.57</td>\n",
       "      <td>17.77</td>\n",
       "      <td>132.90</td>\n",
       "      <td>1326.0</td>\n",
       "      <td>0.08474</td>\n",
       "      <td>0.07864</td>\n",
       "      <td>0.0869</td>\n",
       "      <td>0.07017</td>\n",
       "      <td>...</td>\n",
       "      <td>24.99</td>\n",
       "      <td>23.41</td>\n",
       "      <td>158.80</td>\n",
       "      <td>1956.0</td>\n",
       "      <td>0.1238</td>\n",
       "      <td>0.1866</td>\n",
       "      <td>0.2416</td>\n",
       "      <td>0.1860</td>\n",
       "      <td>0.2750</td>\n",
       "      <td>0.08902</td>\n",
       "    </tr>\n",
       "    <tr>\n",
       "      <th>2</th>\n",
       "      <td>84300903</td>\n",
       "      <td>M</td>\n",
       "      <td>19.69</td>\n",
       "      <td>21.25</td>\n",
       "      <td>130.00</td>\n",
       "      <td>1203.0</td>\n",
       "      <td>0.10960</td>\n",
       "      <td>0.15990</td>\n",
       "      <td>0.1974</td>\n",
       "      <td>0.12790</td>\n",
       "      <td>...</td>\n",
       "      <td>23.57</td>\n",
       "      <td>25.53</td>\n",
       "      <td>152.50</td>\n",
       "      <td>1709.0</td>\n",
       "      <td>0.1444</td>\n",
       "      <td>0.4245</td>\n",
       "      <td>0.4504</td>\n",
       "      <td>0.2430</td>\n",
       "      <td>0.3613</td>\n",
       "      <td>0.08758</td>\n",
       "    </tr>\n",
       "    <tr>\n",
       "      <th>3</th>\n",
       "      <td>84348301</td>\n",
       "      <td>M</td>\n",
       "      <td>11.42</td>\n",
       "      <td>20.38</td>\n",
       "      <td>77.58</td>\n",
       "      <td>386.1</td>\n",
       "      <td>0.14250</td>\n",
       "      <td>0.28390</td>\n",
       "      <td>0.2414</td>\n",
       "      <td>0.10520</td>\n",
       "      <td>...</td>\n",
       "      <td>14.91</td>\n",
       "      <td>26.50</td>\n",
       "      <td>98.87</td>\n",
       "      <td>567.7</td>\n",
       "      <td>0.2098</td>\n",
       "      <td>0.8663</td>\n",
       "      <td>0.6869</td>\n",
       "      <td>0.2575</td>\n",
       "      <td>0.6638</td>\n",
       "      <td>0.17300</td>\n",
       "    </tr>\n",
       "    <tr>\n",
       "      <th>4</th>\n",
       "      <td>84358402</td>\n",
       "      <td>M</td>\n",
       "      <td>20.29</td>\n",
       "      <td>14.34</td>\n",
       "      <td>135.10</td>\n",
       "      <td>1297.0</td>\n",
       "      <td>0.10030</td>\n",
       "      <td>0.13280</td>\n",
       "      <td>0.1980</td>\n",
       "      <td>0.10430</td>\n",
       "      <td>...</td>\n",
       "      <td>22.54</td>\n",
       "      <td>16.67</td>\n",
       "      <td>152.20</td>\n",
       "      <td>1575.0</td>\n",
       "      <td>0.1374</td>\n",
       "      <td>0.2050</td>\n",
       "      <td>0.4000</td>\n",
       "      <td>0.1625</td>\n",
       "      <td>0.2364</td>\n",
       "      <td>0.07678</td>\n",
       "    </tr>\n",
       "  </tbody>\n",
       "</table>\n",
       "<p>5 rows × 32 columns</p>\n",
       "</div>"
      ],
      "text/plain": [
       "   id_number diagnosis  radius_mean  texture_mean  perimeter_mean  area_mean  \\\n",
       "0     842302         M        17.99         10.38          122.80     1001.0   \n",
       "1     842517         M        20.57         17.77          132.90     1326.0   \n",
       "2   84300903         M        19.69         21.25          130.00     1203.0   \n",
       "3   84348301         M        11.42         20.38           77.58      386.1   \n",
       "4   84358402         M        20.29         14.34          135.10     1297.0   \n",
       "\n",
       "   smoothness_mean  compactness_mean  concavity_mean  concave_points_mean  \\\n",
       "0          0.11840           0.27760          0.3001              0.14710   \n",
       "1          0.08474           0.07864          0.0869              0.07017   \n",
       "2          0.10960           0.15990          0.1974              0.12790   \n",
       "3          0.14250           0.28390          0.2414              0.10520   \n",
       "4          0.10030           0.13280          0.1980              0.10430   \n",
       "\n",
       "            ...             radius_worst  texture_worst  perimeter_worst  \\\n",
       "0           ...                    25.38          17.33           184.60   \n",
       "1           ...                    24.99          23.41           158.80   \n",
       "2           ...                    23.57          25.53           152.50   \n",
       "3           ...                    14.91          26.50            98.87   \n",
       "4           ...                    22.54          16.67           152.20   \n",
       "\n",
       "   area_worst  smoothness_worst  compactness_worst  concavity_worst  \\\n",
       "0      2019.0            0.1622             0.6656           0.7119   \n",
       "1      1956.0            0.1238             0.1866           0.2416   \n",
       "2      1709.0            0.1444             0.4245           0.4504   \n",
       "3       567.7            0.2098             0.8663           0.6869   \n",
       "4      1575.0            0.1374             0.2050           0.4000   \n",
       "\n",
       "   concave_points_worst  symmetry_worst  fractal_dimension_worst  \n",
       "0                0.2654          0.4601                  0.11890  \n",
       "1                0.1860          0.2750                  0.08902  \n",
       "2                0.2430          0.3613                  0.08758  \n",
       "3                0.2575          0.6638                  0.17300  \n",
       "4                0.1625          0.2364                  0.07678  \n",
       "\n",
       "[5 rows x 32 columns]"
      ]
     },
     "execution_count": 6,
     "metadata": {},
     "output_type": "execute_result"
    }
   ],
   "source": [
    "data.head()"
   ]
  },
  {
   "cell_type": "code",
   "execution_count": 7,
   "metadata": {},
   "outputs": [
    {
     "data": {
      "text/html": [
       "<div>\n",
       "<style scoped>\n",
       "    .dataframe tbody tr th:only-of-type {\n",
       "        vertical-align: middle;\n",
       "    }\n",
       "\n",
       "    .dataframe tbody tr th {\n",
       "        vertical-align: top;\n",
       "    }\n",
       "\n",
       "    .dataframe thead th {\n",
       "        text-align: right;\n",
       "    }\n",
       "</style>\n",
       "<table border=\"1\" class=\"dataframe\">\n",
       "  <thead>\n",
       "    <tr style=\"text-align: right;\">\n",
       "      <th></th>\n",
       "      <th>DataType</th>\n",
       "      <th>Unique values</th>\n",
       "      <th>Number of missing values</th>\n",
       "      <th>Percentage missing</th>\n",
       "      <th>Memory Usage (MB)</th>\n",
       "      <th>Variance</th>\n",
       "      <th>Mean</th>\n",
       "      <th>Min</th>\n",
       "      <th>Max</th>\n",
       "    </tr>\n",
       "  </thead>\n",
       "  <tbody>\n",
       "    <tr>\n",
       "      <th>id_number</th>\n",
       "      <td>int64</td>\n",
       "      <td>569</td>\n",
       "      <td>0</td>\n",
       "      <td>0.0</td>\n",
       "      <td>4.45</td>\n",
       "      <td>1.563015e+16</td>\n",
       "      <td>3.037183e+07</td>\n",
       "      <td>8670</td>\n",
       "      <td>911320502</td>\n",
       "    </tr>\n",
       "    <tr>\n",
       "      <th>diagnosis</th>\n",
       "      <td>object</td>\n",
       "      <td>2</td>\n",
       "      <td>0</td>\n",
       "      <td>0.0</td>\n",
       "      <td>4.45</td>\n",
       "      <td>NaN</td>\n",
       "      <td>NaN</td>\n",
       "      <td>B</td>\n",
       "      <td>M</td>\n",
       "    </tr>\n",
       "    <tr>\n",
       "      <th>symmetry_worst</th>\n",
       "      <td>float64</td>\n",
       "      <td>500</td>\n",
       "      <td>0</td>\n",
       "      <td>0.0</td>\n",
       "      <td>4.45</td>\n",
       "      <td>3.827584e-03</td>\n",
       "      <td>2.900756e-01</td>\n",
       "      <td>0.1565</td>\n",
       "      <td>0.6638</td>\n",
       "    </tr>\n",
       "    <tr>\n",
       "      <th>concave_points_worst</th>\n",
       "      <td>float64</td>\n",
       "      <td>492</td>\n",
       "      <td>0</td>\n",
       "      <td>0.0</td>\n",
       "      <td>4.45</td>\n",
       "      <td>4.320741e-03</td>\n",
       "      <td>1.146062e-01</td>\n",
       "      <td>0</td>\n",
       "      <td>0.291</td>\n",
       "    </tr>\n",
       "    <tr>\n",
       "      <th>concavity_worst</th>\n",
       "      <td>float64</td>\n",
       "      <td>539</td>\n",
       "      <td>0</td>\n",
       "      <td>0.0</td>\n",
       "      <td>4.45</td>\n",
       "      <td>4.352409e-02</td>\n",
       "      <td>2.721885e-01</td>\n",
       "      <td>0</td>\n",
       "      <td>1.252</td>\n",
       "    </tr>\n",
       "    <tr>\n",
       "      <th>compactness_worst</th>\n",
       "      <td>float64</td>\n",
       "      <td>529</td>\n",
       "      <td>0</td>\n",
       "      <td>0.0</td>\n",
       "      <td>4.45</td>\n",
       "      <td>2.475477e-02</td>\n",
       "      <td>2.542650e-01</td>\n",
       "      <td>0.02729</td>\n",
       "      <td>1.058</td>\n",
       "    </tr>\n",
       "    <tr>\n",
       "      <th>smoothness_worst</th>\n",
       "      <td>float64</td>\n",
       "      <td>411</td>\n",
       "      <td>0</td>\n",
       "      <td>0.0</td>\n",
       "      <td>4.45</td>\n",
       "      <td>5.213198e-04</td>\n",
       "      <td>1.323686e-01</td>\n",
       "      <td>0.07117</td>\n",
       "      <td>0.2226</td>\n",
       "    </tr>\n",
       "    <tr>\n",
       "      <th>area_worst</th>\n",
       "      <td>float64</td>\n",
       "      <td>544</td>\n",
       "      <td>0</td>\n",
       "      <td>0.0</td>\n",
       "      <td>4.45</td>\n",
       "      <td>3.241674e+05</td>\n",
       "      <td>8.805831e+02</td>\n",
       "      <td>185.2</td>\n",
       "      <td>4254</td>\n",
       "    </tr>\n",
       "    <tr>\n",
       "      <th>perimeter_worst</th>\n",
       "      <td>float64</td>\n",
       "      <td>514</td>\n",
       "      <td>0</td>\n",
       "      <td>0.0</td>\n",
       "      <td>4.45</td>\n",
       "      <td>1.129131e+03</td>\n",
       "      <td>1.072612e+02</td>\n",
       "      <td>50.41</td>\n",
       "      <td>251.2</td>\n",
       "    </tr>\n",
       "    <tr>\n",
       "      <th>texture_worst</th>\n",
       "      <td>float64</td>\n",
       "      <td>511</td>\n",
       "      <td>0</td>\n",
       "      <td>0.0</td>\n",
       "      <td>4.45</td>\n",
       "      <td>3.777648e+01</td>\n",
       "      <td>2.567722e+01</td>\n",
       "      <td>12.02</td>\n",
       "      <td>49.54</td>\n",
       "    </tr>\n",
       "    <tr>\n",
       "      <th>radius_worst</th>\n",
       "      <td>float64</td>\n",
       "      <td>457</td>\n",
       "      <td>0</td>\n",
       "      <td>0.0</td>\n",
       "      <td>4.45</td>\n",
       "      <td>2.336022e+01</td>\n",
       "      <td>1.626919e+01</td>\n",
       "      <td>7.93</td>\n",
       "      <td>36.04</td>\n",
       "    </tr>\n",
       "    <tr>\n",
       "      <th>fractal_dimension_se</th>\n",
       "      <td>float64</td>\n",
       "      <td>545</td>\n",
       "      <td>0</td>\n",
       "      <td>0.0</td>\n",
       "      <td>4.45</td>\n",
       "      <td>7.001692e-06</td>\n",
       "      <td>3.794904e-03</td>\n",
       "      <td>0.0008948</td>\n",
       "      <td>0.02984</td>\n",
       "    </tr>\n",
       "    <tr>\n",
       "      <th>symmetry_se</th>\n",
       "      <td>float64</td>\n",
       "      <td>498</td>\n",
       "      <td>0</td>\n",
       "      <td>0.0</td>\n",
       "      <td>4.45</td>\n",
       "      <td>6.833290e-05</td>\n",
       "      <td>2.054230e-02</td>\n",
       "      <td>0.007882</td>\n",
       "      <td>0.07895</td>\n",
       "    </tr>\n",
       "    <tr>\n",
       "      <th>concave_points_se</th>\n",
       "      <td>float64</td>\n",
       "      <td>507</td>\n",
       "      <td>0</td>\n",
       "      <td>0.0</td>\n",
       "      <td>4.45</td>\n",
       "      <td>3.807242e-05</td>\n",
       "      <td>1.179614e-02</td>\n",
       "      <td>0</td>\n",
       "      <td>0.05279</td>\n",
       "    </tr>\n",
       "    <tr>\n",
       "      <th>concavity_se</th>\n",
       "      <td>float64</td>\n",
       "      <td>533</td>\n",
       "      <td>0</td>\n",
       "      <td>0.0</td>\n",
       "      <td>4.45</td>\n",
       "      <td>9.111982e-04</td>\n",
       "      <td>3.189372e-02</td>\n",
       "      <td>0</td>\n",
       "      <td>0.396</td>\n",
       "    </tr>\n",
       "    <tr>\n",
       "      <th>compactness_se</th>\n",
       "      <td>float64</td>\n",
       "      <td>541</td>\n",
       "      <td>0</td>\n",
       "      <td>0.0</td>\n",
       "      <td>4.45</td>\n",
       "      <td>3.207029e-04</td>\n",
       "      <td>2.547814e-02</td>\n",
       "      <td>0.002252</td>\n",
       "      <td>0.1354</td>\n",
       "    </tr>\n",
       "    <tr>\n",
       "      <th>smoothness_se</th>\n",
       "      <td>float64</td>\n",
       "      <td>547</td>\n",
       "      <td>0</td>\n",
       "      <td>0.0</td>\n",
       "      <td>4.45</td>\n",
       "      <td>9.015114e-06</td>\n",
       "      <td>7.040979e-03</td>\n",
       "      <td>0.001713</td>\n",
       "      <td>0.03113</td>\n",
       "    </tr>\n",
       "    <tr>\n",
       "      <th>area_se</th>\n",
       "      <td>float64</td>\n",
       "      <td>528</td>\n",
       "      <td>0</td>\n",
       "      <td>0.0</td>\n",
       "      <td>4.45</td>\n",
       "      <td>2.069432e+03</td>\n",
       "      <td>4.033708e+01</td>\n",
       "      <td>6.802</td>\n",
       "      <td>542.2</td>\n",
       "    </tr>\n",
       "    <tr>\n",
       "      <th>perimeter_se</th>\n",
       "      <td>float64</td>\n",
       "      <td>533</td>\n",
       "      <td>0</td>\n",
       "      <td>0.0</td>\n",
       "      <td>4.45</td>\n",
       "      <td>4.087896e+00</td>\n",
       "      <td>2.866059e+00</td>\n",
       "      <td>0.757</td>\n",
       "      <td>21.98</td>\n",
       "    </tr>\n",
       "    <tr>\n",
       "      <th>texture_se</th>\n",
       "      <td>float64</td>\n",
       "      <td>519</td>\n",
       "      <td>0</td>\n",
       "      <td>0.0</td>\n",
       "      <td>4.45</td>\n",
       "      <td>3.043159e-01</td>\n",
       "      <td>1.216853e+00</td>\n",
       "      <td>0.3602</td>\n",
       "      <td>4.885</td>\n",
       "    </tr>\n",
       "    <tr>\n",
       "      <th>radius_se</th>\n",
       "      <td>float64</td>\n",
       "      <td>540</td>\n",
       "      <td>0</td>\n",
       "      <td>0.0</td>\n",
       "      <td>4.45</td>\n",
       "      <td>7.690235e-02</td>\n",
       "      <td>4.051721e-01</td>\n",
       "      <td>0.1115</td>\n",
       "      <td>2.873</td>\n",
       "    </tr>\n",
       "    <tr>\n",
       "      <th>fractal_dimension_mean</th>\n",
       "      <td>float64</td>\n",
       "      <td>499</td>\n",
       "      <td>0</td>\n",
       "      <td>0.0</td>\n",
       "      <td>4.45</td>\n",
       "      <td>4.984872e-05</td>\n",
       "      <td>6.279761e-02</td>\n",
       "      <td>0.04996</td>\n",
       "      <td>0.09744</td>\n",
       "    </tr>\n",
       "    <tr>\n",
       "      <th>symmetry_mean</th>\n",
       "      <td>float64</td>\n",
       "      <td>432</td>\n",
       "      <td>0</td>\n",
       "      <td>0.0</td>\n",
       "      <td>4.45</td>\n",
       "      <td>7.515428e-04</td>\n",
       "      <td>1.811619e-01</td>\n",
       "      <td>0.106</td>\n",
       "      <td>0.304</td>\n",
       "    </tr>\n",
       "    <tr>\n",
       "      <th>concave_points_mean</th>\n",
       "      <td>float64</td>\n",
       "      <td>542</td>\n",
       "      <td>0</td>\n",
       "      <td>0.0</td>\n",
       "      <td>4.45</td>\n",
       "      <td>1.505661e-03</td>\n",
       "      <td>4.891915e-02</td>\n",
       "      <td>0</td>\n",
       "      <td>0.2012</td>\n",
       "    </tr>\n",
       "    <tr>\n",
       "      <th>concavity_mean</th>\n",
       "      <td>float64</td>\n",
       "      <td>537</td>\n",
       "      <td>0</td>\n",
       "      <td>0.0</td>\n",
       "      <td>4.45</td>\n",
       "      <td>6.355248e-03</td>\n",
       "      <td>8.879932e-02</td>\n",
       "      <td>0</td>\n",
       "      <td>0.4268</td>\n",
       "    </tr>\n",
       "    <tr>\n",
       "      <th>compactness_mean</th>\n",
       "      <td>float64</td>\n",
       "      <td>537</td>\n",
       "      <td>0</td>\n",
       "      <td>0.0</td>\n",
       "      <td>4.45</td>\n",
       "      <td>2.789187e-03</td>\n",
       "      <td>1.043410e-01</td>\n",
       "      <td>0.01938</td>\n",
       "      <td>0.3454</td>\n",
       "    </tr>\n",
       "    <tr>\n",
       "      <th>smoothness_mean</th>\n",
       "      <td>float64</td>\n",
       "      <td>474</td>\n",
       "      <td>0</td>\n",
       "      <td>0.0</td>\n",
       "      <td>4.45</td>\n",
       "      <td>1.977997e-04</td>\n",
       "      <td>9.636028e-02</td>\n",
       "      <td>0.05263</td>\n",
       "      <td>0.1634</td>\n",
       "    </tr>\n",
       "    <tr>\n",
       "      <th>area_mean</th>\n",
       "      <td>float64</td>\n",
       "      <td>539</td>\n",
       "      <td>0</td>\n",
       "      <td>0.0</td>\n",
       "      <td>4.45</td>\n",
       "      <td>1.238436e+05</td>\n",
       "      <td>6.548891e+02</td>\n",
       "      <td>143.5</td>\n",
       "      <td>2501</td>\n",
       "    </tr>\n",
       "    <tr>\n",
       "      <th>perimeter_mean</th>\n",
       "      <td>float64</td>\n",
       "      <td>522</td>\n",
       "      <td>0</td>\n",
       "      <td>0.0</td>\n",
       "      <td>4.45</td>\n",
       "      <td>5.904405e+02</td>\n",
       "      <td>9.196903e+01</td>\n",
       "      <td>43.79</td>\n",
       "      <td>188.5</td>\n",
       "    </tr>\n",
       "    <tr>\n",
       "      <th>texture_mean</th>\n",
       "      <td>float64</td>\n",
       "      <td>479</td>\n",
       "      <td>0</td>\n",
       "      <td>0.0</td>\n",
       "      <td>4.45</td>\n",
       "      <td>1.849891e+01</td>\n",
       "      <td>1.928965e+01</td>\n",
       "      <td>9.71</td>\n",
       "      <td>39.28</td>\n",
       "    </tr>\n",
       "    <tr>\n",
       "      <th>radius_mean</th>\n",
       "      <td>float64</td>\n",
       "      <td>456</td>\n",
       "      <td>0</td>\n",
       "      <td>0.0</td>\n",
       "      <td>4.45</td>\n",
       "      <td>1.241892e+01</td>\n",
       "      <td>1.412729e+01</td>\n",
       "      <td>6.981</td>\n",
       "      <td>28.11</td>\n",
       "    </tr>\n",
       "    <tr>\n",
       "      <th>fractal_dimension_worst</th>\n",
       "      <td>float64</td>\n",
       "      <td>535</td>\n",
       "      <td>0</td>\n",
       "      <td>0.0</td>\n",
       "      <td>4.45</td>\n",
       "      <td>3.262094e-04</td>\n",
       "      <td>8.394582e-02</td>\n",
       "      <td>0.05504</td>\n",
       "      <td>0.2075</td>\n",
       "    </tr>\n",
       "  </tbody>\n",
       "</table>\n",
       "</div>"
      ],
      "text/plain": [
       "                        DataType  Unique values  Number of missing values  \\\n",
       "id_number                  int64            569                         0   \n",
       "diagnosis                 object              2                         0   \n",
       "symmetry_worst           float64            500                         0   \n",
       "concave_points_worst     float64            492                         0   \n",
       "concavity_worst          float64            539                         0   \n",
       "compactness_worst        float64            529                         0   \n",
       "smoothness_worst         float64            411                         0   \n",
       "area_worst               float64            544                         0   \n",
       "perimeter_worst          float64            514                         0   \n",
       "texture_worst            float64            511                         0   \n",
       "radius_worst             float64            457                         0   \n",
       "fractal_dimension_se     float64            545                         0   \n",
       "symmetry_se              float64            498                         0   \n",
       "concave_points_se        float64            507                         0   \n",
       "concavity_se             float64            533                         0   \n",
       "compactness_se           float64            541                         0   \n",
       "smoothness_se            float64            547                         0   \n",
       "area_se                  float64            528                         0   \n",
       "perimeter_se             float64            533                         0   \n",
       "texture_se               float64            519                         0   \n",
       "radius_se                float64            540                         0   \n",
       "fractal_dimension_mean   float64            499                         0   \n",
       "symmetry_mean            float64            432                         0   \n",
       "concave_points_mean      float64            542                         0   \n",
       "concavity_mean           float64            537                         0   \n",
       "compactness_mean         float64            537                         0   \n",
       "smoothness_mean          float64            474                         0   \n",
       "area_mean                float64            539                         0   \n",
       "perimeter_mean           float64            522                         0   \n",
       "texture_mean             float64            479                         0   \n",
       "radius_mean              float64            456                         0   \n",
       "fractal_dimension_worst  float64            535                         0   \n",
       "\n",
       "                         Percentage missing  Memory Usage (MB)      Variance  \\\n",
       "id_number                               0.0               4.45  1.563015e+16   \n",
       "diagnosis                               0.0               4.45           NaN   \n",
       "symmetry_worst                          0.0               4.45  3.827584e-03   \n",
       "concave_points_worst                    0.0               4.45  4.320741e-03   \n",
       "concavity_worst                         0.0               4.45  4.352409e-02   \n",
       "compactness_worst                       0.0               4.45  2.475477e-02   \n",
       "smoothness_worst                        0.0               4.45  5.213198e-04   \n",
       "area_worst                              0.0               4.45  3.241674e+05   \n",
       "perimeter_worst                         0.0               4.45  1.129131e+03   \n",
       "texture_worst                           0.0               4.45  3.777648e+01   \n",
       "radius_worst                            0.0               4.45  2.336022e+01   \n",
       "fractal_dimension_se                    0.0               4.45  7.001692e-06   \n",
       "symmetry_se                             0.0               4.45  6.833290e-05   \n",
       "concave_points_se                       0.0               4.45  3.807242e-05   \n",
       "concavity_se                            0.0               4.45  9.111982e-04   \n",
       "compactness_se                          0.0               4.45  3.207029e-04   \n",
       "smoothness_se                           0.0               4.45  9.015114e-06   \n",
       "area_se                                 0.0               4.45  2.069432e+03   \n",
       "perimeter_se                            0.0               4.45  4.087896e+00   \n",
       "texture_se                              0.0               4.45  3.043159e-01   \n",
       "radius_se                               0.0               4.45  7.690235e-02   \n",
       "fractal_dimension_mean                  0.0               4.45  4.984872e-05   \n",
       "symmetry_mean                           0.0               4.45  7.515428e-04   \n",
       "concave_points_mean                     0.0               4.45  1.505661e-03   \n",
       "concavity_mean                          0.0               4.45  6.355248e-03   \n",
       "compactness_mean                        0.0               4.45  2.789187e-03   \n",
       "smoothness_mean                         0.0               4.45  1.977997e-04   \n",
       "area_mean                               0.0               4.45  1.238436e+05   \n",
       "perimeter_mean                          0.0               4.45  5.904405e+02   \n",
       "texture_mean                            0.0               4.45  1.849891e+01   \n",
       "radius_mean                             0.0               4.45  1.241892e+01   \n",
       "fractal_dimension_worst                 0.0               4.45  3.262094e-04   \n",
       "\n",
       "                                 Mean        Min        Max  \n",
       "id_number                3.037183e+07       8670  911320502  \n",
       "diagnosis                         NaN          B          M  \n",
       "symmetry_worst           2.900756e-01     0.1565     0.6638  \n",
       "concave_points_worst     1.146062e-01          0      0.291  \n",
       "concavity_worst          2.721885e-01          0      1.252  \n",
       "compactness_worst        2.542650e-01    0.02729      1.058  \n",
       "smoothness_worst         1.323686e-01    0.07117     0.2226  \n",
       "area_worst               8.805831e+02      185.2       4254  \n",
       "perimeter_worst          1.072612e+02      50.41      251.2  \n",
       "texture_worst            2.567722e+01      12.02      49.54  \n",
       "radius_worst             1.626919e+01       7.93      36.04  \n",
       "fractal_dimension_se     3.794904e-03  0.0008948    0.02984  \n",
       "symmetry_se              2.054230e-02   0.007882    0.07895  \n",
       "concave_points_se        1.179614e-02          0    0.05279  \n",
       "concavity_se             3.189372e-02          0      0.396  \n",
       "compactness_se           2.547814e-02   0.002252     0.1354  \n",
       "smoothness_se            7.040979e-03   0.001713    0.03113  \n",
       "area_se                  4.033708e+01      6.802      542.2  \n",
       "perimeter_se             2.866059e+00      0.757      21.98  \n",
       "texture_se               1.216853e+00     0.3602      4.885  \n",
       "radius_se                4.051721e-01     0.1115      2.873  \n",
       "fractal_dimension_mean   6.279761e-02    0.04996    0.09744  \n",
       "symmetry_mean            1.811619e-01      0.106      0.304  \n",
       "concave_points_mean      4.891915e-02          0     0.2012  \n",
       "concavity_mean           8.879932e-02          0     0.4268  \n",
       "compactness_mean         1.043410e-01    0.01938     0.3454  \n",
       "smoothness_mean          9.636028e-02    0.05263     0.1634  \n",
       "area_mean                6.548891e+02      143.5       2501  \n",
       "perimeter_mean           9.196903e+01      43.79      188.5  \n",
       "texture_mean             1.928965e+01       9.71      39.28  \n",
       "radius_mean              1.412729e+01      6.981      28.11  \n",
       "fractal_dimension_worst  8.394582e-02    0.05504     0.2075  "
      ]
     },
     "execution_count": 7,
     "metadata": {},
     "output_type": "execute_result"
    }
   ],
   "source": [
    "def inspect_summary(df):\n",
    "    \"\"\"Returns a inspection dataframe\"\"\"\n",
    "    inspect_dataframe = pd.DataFrame({'DataType': df.dtypes, 'Unique values': df.nunique() ,\n",
    "                  'Number of missing values': df.isnull().sum() ,\n",
    "                  'Percentage missing': (df.isnull().sum() / len(df)) * 100,\n",
    "                                      'Memory Usage (MB)':round(df.memory_usage(index=False) / 1024, 2)\n",
    "                                     }).sort_values(by='Number of missing values', ascending = False)\n",
    "    inspect_dataframe['Variance'] = df[inspect_dataframe.index].var()\n",
    "    inspect_dataframe['Mean'] = df[inspect_dataframe.index].mean()\n",
    "    inspect_dataframe['Min'] = df[inspect_dataframe.index].min()\n",
    "    inspect_dataframe['Max'] = df[inspect_dataframe.index].max()\n",
    "    return inspect_dataframe\n",
    "\n",
    "\n",
    "\n",
    "ins_train = inspect_summary(data)\n",
    "ins_train\n"
   ]
  },
  {
   "cell_type": "markdown",
   "metadata": {},
   "source": [
    "we can see no missing values in any features, and only one feature (diagnosis) is have 2 uniques values which are category values. we need to deal with them. we can use map function to make them binary values (1,0) \n",
    "this also show us the data is not distributed normal we can make nearly normal or close to normal by usig some techniques. "
   ]
  },
  {
   "cell_type": "code",
   "execution_count": 8,
   "metadata": {},
   "outputs": [
    {
     "data": {
      "text/plain": [
       "array(['M', 'B'], dtype=object)"
      ]
     },
     "execution_count": 8,
     "metadata": {},
     "output_type": "execute_result"
    }
   ],
   "source": [
    "data.diagnosis.unique()"
   ]
  },
  {
   "cell_type": "code",
   "execution_count": 9,
   "metadata": {},
   "outputs": [],
   "source": [
    "data[\"diagnosis\"]=data[\"diagnosis\"].map({\"M\":1,\"B\":0})"
   ]
  },
  {
   "cell_type": "code",
   "execution_count": 10,
   "metadata": {},
   "outputs": [],
   "source": [
    "target=data.diagnosis"
   ]
  },
  {
   "cell_type": "code",
   "execution_count": 11,
   "metadata": {},
   "outputs": [],
   "source": [
    "data.set_index([\"id_number\"],inplace=True)"
   ]
  },
  {
   "cell_type": "code",
   "execution_count": 12,
   "metadata": {},
   "outputs": [],
   "source": [
    "# For later use in CART models\n",
    "names_index = names[2:]"
   ]
  },
  {
   "cell_type": "markdown",
   "metadata": {},
   "source": [
    "let now look at the class imbalence (skewd classes)"
   ]
  },
  {
   "cell_type": "code",
   "execution_count": 13,
   "metadata": {},
   "outputs": [],
   "source": [
    "import matplotlib.pyplot as plt\n",
    "% matplotlib inline"
   ]
  },
  {
   "cell_type": "code",
   "execution_count": 14,
   "metadata": {},
   "outputs": [
    {
     "data": {
      "text/plain": [
       "<matplotlib.axes._subplots.AxesSubplot at 0x7fde626de2e8>"
      ]
     },
     "execution_count": 14,
     "metadata": {},
     "output_type": "execute_result"
    },
    {
     "data": {
      "image/png": "[encoded data removed]",
      "text/plain": [
       "<Figure size 432x288 with 1 Axes>"
      ]
     },
     "metadata": {
      "needs_background": "light"
     },
     "output_type": "display_data"
    }
   ],
   "source": [
    "data.diagnosis.value_counts().plot.bar()"
   ]
  },
  {
   "cell_type": "markdown",
   "metadata": {},
   "source": [
    "this show classes are not imbalced or skewd "
   ]
  },
  {
   "cell_type": "code",
   "execution_count": 15,
   "metadata": {},
   "outputs": [
    {
     "data": {
      "text/plain": [
       "<matplotlib.axes._subplots.AxesSubplot at 0x7fde62436278>"
      ]
     },
     "execution_count": 15,
     "metadata": {},
     "output_type": "execute_result"
    },
    {
     "data": {
      "image/png": "[encoded data removed]",
      "text/plain": [
       "<Figure size 432x288 with 1 Axes>"
      ]
     },
     "metadata": {},
     "output_type": "display_data"
    }
   ],
   "source": [
    "data.diagnosis.value_counts().plot.pie()"
   ]
  },
  {
   "cell_type": "markdown",
   "metadata": {},
   "source": [
    "lets create traning set of 80% from data and use the remaning data as the test data set for the model validation. "
   ]
  },
  {
   "cell_type": "code",
   "execution_count": 16,
   "metadata": {},
   "outputs": [],
   "source": [
    "# seperating the target  values\n",
    "target=data.diagnosis"
   ]
  },
  {
   "cell_type": "code",
   "execution_count": 17,
   "metadata": {},
   "outputs": [],
   "source": [
    "data=data.drop(\"diagnosis\", axis=1)"
   ]
  },
  {
   "cell_type": "code",
   "execution_count": 18,
   "metadata": {},
   "outputs": [],
   "source": [
    "#spliting data into trai and test sets\n",
    "from sklearn.model_selection import train_test_split,GridSearchCV\n",
    "train_x, test_x, train_y,test_y=train_test_split(data,target,test_size=0.2,random_state=42)"
   ]
  },
  {
   "cell_type": "code",
   "execution_count": 19,
   "metadata": {},
   "outputs": [],
   "source": [
    "# Cleaning test sets to avoid future warning messages\n",
    "train_y = train_y.values.ravel()\n",
    "test_y = test_y.values.ravel()\n",
    "# use can use reshape function too"
   ]
  },
  {
   "cell_type": "code",
   "execution_count": 20,
   "metadata": {},
   "outputs": [],
   "source": [
    "#creating models\n",
    "\n",
    "from sklearn.ensemble import RandomForestClassifier\n",
    "model_rfc=RandomForestClassifier(random_state=42)"
   ]
  },
  {
   "cell_type": "code",
   "execution_count": 21,
   "metadata": {},
   "outputs": [],
   "source": [
    "parms={\"max_depth\":[1,2,3],\"bootstrap\":[\"True\",\"False\"],'max_features': ['auto', 'sqrt', 'log2', None],\"criterion\":[\"gini\",\"entropy\"]}"
   ]
  },
  {
   "cell_type": "code",
   "execution_count": 22,
   "metadata": {},
   "outputs": [],
   "source": [
    "from sklearn.model_selection import GridSearchCV\n",
    "cv_rf=GridSearchCV(model_rfc,cv=10,param_grid=parms,n_jobs=1)"
   ]
  },
  {
   "cell_type": "code",
   "execution_count": 23,
   "metadata": {},
   "outputs": [
    {
     "name": "stderr",
     "output_type": "stream",
     "text": [
      "/home/kalyan/anaconda3/lib/python3.7/site-packages/sklearn/model_selection/_search.py:841: DeprecationWarning: The default of the `iid` parameter will change from True to False in version 0.22 and will be removed in 0.24. This will change numeric results when test-set sizes are unequal.\n",
      "  DeprecationWarning)\n"
     ]
    },
    {
     "data": {
      "text/plain": [
       "GridSearchCV(cv=10, error_score='raise-deprecating',\n",
       "       estimator=RandomForestClassifier(bootstrap=True, class_weight=None, criterion='gini',\n",
       "            max_depth=None, max_features='auto', max_leaf_nodes=None,\n",
       "            min_impurity_decrease=0.0, min_impurity_split=None,\n",
       "            min_samples_leaf=1, min_samples_split=2,\n",
       "            min_weight_fraction_leaf=0.0, n_estimators='warn', n_jobs=None,\n",
       "            oob_score=False, random_state=42, verbose=0, warm_start=False),\n",
       "       fit_params=None, iid='warn', n_jobs=1,\n",
       "       param_grid={'max_depth': [1, 2, 3], 'bootstrap': ['True', 'False'], 'max_features': ['auto', 'sqrt', 'log2', None], 'criterion': ['gini', 'entropy']},\n",
       "       pre_dispatch='2*n_jobs', refit=True, return_train_score='warn',\n",
       "       scoring=None, verbose=0)"
      ]
     },
     "execution_count": 23,
     "metadata": {},
     "output_type": "execute_result"
    }
   ],
   "source": [
    "cv_rf.fit(train_x,train_y)"
   ]
  },
  {
   "cell_type": "code",
   "execution_count": 24,
   "metadata": {},
   "outputs": [
    {
     "name": "stdout",
     "output_type": "stream",
     "text": [
      "Best Parameters using grid search: \n",
      " {'bootstrap': 'True', 'criterion': 'gini', 'max_depth': 3, 'max_features': 'log2'}\n"
     ]
    }
   ],
   "source": [
    "print('Best Parameters using grid search: \\n',cv_rf.best_params_)"
   ]
  },
  {
   "cell_type": "code",
   "execution_count": 25,
   "metadata": {},
   "outputs": [
    {
     "data": {
      "text/plain": [
       "RandomForestClassifier(bootstrap=True, class_weight=None, criterion='gini',\n",
       "            max_depth=3, max_features='log2', max_leaf_nodes=None,\n",
       "            min_impurity_decrease=0.0, min_impurity_split=None,\n",
       "            min_samples_leaf=1, min_samples_split=2,\n",
       "            min_weight_fraction_leaf=0.0, n_estimators='warn', n_jobs=None,\n",
       "            oob_score=False, random_state=42, verbose=0, warm_start=False)"
      ]
     },
     "execution_count": 25,
     "metadata": {},
     "output_type": "execute_result"
    }
   ],
   "source": [
    "# Set best parameters given by grid search\n",
    "model_rfc.set_params(criterion = 'gini',\n",
    "                  max_features = 'log2',\n",
    "                  max_depth = 3)"
   ]
  },
  {
   "cell_type": "code",
   "execution_count": 26,
   "metadata": {},
   "outputs": [],
   "source": [
    "model_rfc.set_params(warm_start=True,\n",
    "                  oob_score=True)\n",
    "\n",
    "min_estimators = 15\n",
    "max_estimators = 1000\n",
    "\n",
    "error_rate = {}\n",
    "\n",
    "for i in range(min_estimators, max_estimators + 1):\n",
    "    model_rfc.set_params(n_estimators=i)\n",
    "    model_rfc.fit(train_x, train_y)\n",
    "\n",
    "    oob_error = 1 - model_rfc.oob_score_\n",
    "    error_rate[i] = oob_error"
   ]
  },
  {
   "cell_type": "code",
   "execution_count": 27,
   "metadata": {},
   "outputs": [],
   "source": [
    "# Convert dictionary to a pandas series for easy plotting\n",
    "oob_series = pd.Series(error_rate)"
   ]
  },
  {
   "cell_type": "code",
   "execution_count": 28,
   "metadata": {},
   "outputs": [
    {
     "data": {
      "text/plain": [
       "Text(0.5,1,'OOB Error Rate Across various Forest sizes \\n(From 15 to 1000 trees)')"
      ]
     },
     "execution_count": 28,
     "metadata": {},
     "output_type": "execute_result"
    },
    {
     "data": {
      "image/png": "[encoded data removed]",
      "text/plain": [
       "<Figure size 720x720 with 1 Axes>"
      ]
     },
     "metadata": {
      "needs_background": "light"
     },
     "output_type": "display_data"
    }
   ],
   "source": [
    "import seaborn as ans\n",
    "fig,ax=plt.subplots(figsize=(10,10))\n",
    "\n",
    "oob_series.plot(kind=\"line\",color=\"red\")\n",
    "plt.axhline(0.055,\n",
    "            color='#875FDB',\n",
    "           linestyle='--')\n",
    "plt.axhline(0.05,\n",
    "            color='#875FDB',\n",
    "           linestyle='--')\n",
    "plt.xlabel('n_estimators')\n",
    "plt.ylabel('OOB Error Rate')\n",
    "plt.title('OOB Error Rate Across various Forest sizes \\n(From 15 to 1000 trees)')"
   ]
  },
  {
   "cell_type": "markdown",
   "metadata": {},
   "source": [
    "The OOB error rate starts to oscillate at around 400 trees, so I will go ahead and use 400 trees in my forest. Using the pandas series object, I can easily find the OOB error rate for the estimator as follows:"
   ]
  },
  {
   "cell_type": "code",
   "execution_count": 29,
   "metadata": {},
   "outputs": [
    {
     "name": "stdout",
     "output_type": "stream",
     "text": [
      "OOB error rate for 400 tress is 0.04835\n"
     ]
    }
   ],
   "source": [
    "print(\"OOB error rate for 400 tress is {0:0.5f}\".format(oob_series[400]))"
   ]
  },
  {
   "cell_type": "code",
   "execution_count": 30,
   "metadata": {},
   "outputs": [
    {
     "data": {
      "text/plain": [
       "RandomForestClassifier(bootstrap=True, class_weight=None, criterion='gini',\n",
       "            max_depth=3, max_features='log2', max_leaf_nodes=None,\n",
       "            min_impurity_decrease=0.0, min_impurity_split=None,\n",
       "            min_samples_leaf=1, min_samples_split=2,\n",
       "            min_weight_fraction_leaf=0.0, n_estimators=400, n_jobs=None,\n",
       "            oob_score=False, random_state=42, verbose=0, warm_start=False)"
      ]
     },
     "execution_count": 30,
     "metadata": {},
     "output_type": "execute_result"
    }
   ],
   "source": [
    "model_rfc.set_params(n_estimators=400,\n",
    "              bootstrap = True,\n",
    "              warm_start=False,\n",
    "              oob_score=False)"
   ]
  },
  {
   "cell_type": "code",
   "execution_count": 31,
   "metadata": {},
   "outputs": [
    {
     "data": {
      "text/plain": [
       "RandomForestClassifier(bootstrap=True, class_weight=None, criterion='gini',\n",
       "            max_depth=3, max_features='log2', max_leaf_nodes=None,\n",
       "            min_impurity_decrease=0.0, min_impurity_split=None,\n",
       "            min_samples_leaf=1, min_samples_split=2,\n",
       "            min_weight_fraction_leaf=0.0, n_estimators=400, n_jobs=None,\n",
       "            oob_score=False, random_state=42, verbose=0, warm_start=False)"
      ]
     },
     "execution_count": 31,
     "metadata": {},
     "output_type": "execute_result"
    }
   ],
   "source": [
    "model_rfc.fit(train_x, train_y)"
   ]
  },
  {
   "cell_type": "code",
   "execution_count": 32,
   "metadata": {},
   "outputs": [],
   "source": [
    "importances_rfc = model_rfc.feature_importances_\n",
    "indices_rfc = np.argsort(importances_rfc)[::-1]"
   ]
  },
  {
   "cell_type": "code",
   "execution_count": 33,
   "metadata": {},
   "outputs": [],
   "source": [
    "def variable_importance(importance, indices):\n",
    "    \"\"\"\n",
    "    Purpose:\n",
    "    ----------\n",
    "    Prints dependent variable names ordered from largest to smallest\n",
    "    based on gini or information gain for CART model.\n",
    "\n",
    "    Parameters:\n",
    "    ----------\n",
    "    names:      Name of columns included in model\n",
    "    importance: Array returned from feature_importances_ for CART\n",
    "                   models organized by dataframe index\n",
    "    indices:    Organized index of dataframe from largest to smallest\n",
    "                   based on feature_importances_\n",
    "\n",
    "    Returns:\n",
    "    ----------\n",
    "    Print statement outputting variable importance in descending order\n",
    "    \"\"\"\n",
    "    print(\"Feature ranking:\")\n",
    "\n",
    "    for f in range(len(names_index)):\n",
    "        i = f\n",
    "        print(\"%d. The feature '%s' \\\n",
    "has a Mean Decrease in Gini of %f\" % (f + 1,\n",
    "                                         names_index[indices[i]],\n",
    "                                         importance[indices[f]]))\n",
    "   "
   ]
  },
  {
   "cell_type": "code",
   "execution_count": 34,
   "metadata": {},
   "outputs": [
    {
     "name": "stdout",
     "output_type": "stream",
     "text": [
      "Feature ranking:\n",
      "1. The feature 'area_worst' has a Mean Decrease in Gini of 0.129856\n",
      "2. The feature 'perimeter_worst' has a Mean Decrease in Gini of 0.120953\n",
      "3. The feature 'concave_points_worst' has a Mean Decrease in Gini of 0.115548\n",
      "4. The feature 'concave_points_mean' has a Mean Decrease in Gini of 0.100136\n",
      "5. The feature 'radius_worst' has a Mean Decrease in Gini of 0.078047\n",
      "6. The feature 'concavity_mean' has a Mean Decrease in Gini of 0.062143\n",
      "7. The feature 'area_mean' has a Mean Decrease in Gini of 0.056556\n",
      "8. The feature 'radius_mean' has a Mean Decrease in Gini of 0.054567\n",
      "9. The feature 'perimeter_mean' has a Mean Decrease in Gini of 0.051745\n",
      "10. The feature 'area_se' has a Mean Decrease in Gini of 0.043261\n",
      "11. The feature 'concavity_worst' has a Mean Decrease in Gini of 0.038659\n",
      "12. The feature 'compactness_worst' has a Mean Decrease in Gini of 0.020329\n",
      "13. The feature 'compactness_mean' has a Mean Decrease in Gini of 0.016163\n",
      "14. The feature 'texture_worst' has a Mean Decrease in Gini of 0.015542\n",
      "15. The feature 'radius_se' has a Mean Decrease in Gini of 0.014521\n",
      "16. The feature 'perimeter_se' has a Mean Decrease in Gini of 0.013084\n",
      "17. The feature 'texture_mean' has a Mean Decrease in Gini of 0.012203\n",
      "18. The feature 'symmetry_worst' has a Mean Decrease in Gini of 0.011750\n",
      "19. The feature 'smoothness_worst' has a Mean Decrease in Gini of 0.009380\n",
      "20. The feature 'concavity_se' has a Mean Decrease in Gini of 0.009105\n",
      "21. The feature 'concave_points_se' has a Mean Decrease in Gini of 0.004449\n",
      "22. The feature 'smoothness_mean' has a Mean Decrease in Gini of 0.003982\n",
      "23. The feature 'fractal_dimension_se' has a Mean Decrease in Gini of 0.003953\n",
      "24. The feature 'fractal_dimension_worst' has a Mean Decrease in Gini of 0.002672\n",
      "25. The feature 'fractal_dimension_mean' has a Mean Decrease in Gini of 0.002210\n",
      "26. The feature 'smoothness_se' has a Mean Decrease in Gini of 0.002169\n",
      "27. The feature 'symmetry_mean' has a Mean Decrease in Gini of 0.002051\n",
      "28. The feature 'texture_se' has a Mean Decrease in Gini of 0.002043\n",
      "29. The feature 'symmetry_se' has a Mean Decrease in Gini of 0.001937\n",
      "30. The feature 'compactness_se' has a Mean Decrease in Gini of 0.000987\n"
     ]
    }
   ],
   "source": [
    "variable_importance(importances_rfc, indices_rfc)"
   ]
  },
  {
   "cell_type": "code",
   "execution_count": 35,
   "metadata": {},
   "outputs": [
    {
     "data": {
      "image/png": "[encoded data removed]",
      "text/plain": [
       "<Figure size 720x720 with 1 Axes>"
      ]
     },
     "metadata": {
      "needs_background": "light"
     },
     "output_type": "display_data"
    }
   ],
   "source": [
    "def variable_importance_plot(importance, indices):\n",
    "    \"\"\"\n",
    "    Purpose\n",
    "    ----------\n",
    "    Prints bar chart detailing variable importance for CART model\n",
    "    NOTE: feature_space list was created because the bar chart\n",
    "    was transposed and index would be in incorrect order.\n",
    "\n",
    "    Parameters\n",
    "    ----------\n",
    "    importance_desc: Array returned from feature_importances_ for CART\n",
    "                    models organized in descending order\n",
    "\n",
    "    indices: Organized index of dataframe from largest to smallest\n",
    "                    based on feature_importances_\n",
    "    Returns:\n",
    "    ----------\n",
    "    Returns variable importance plot in descending order\n",
    "    \"\"\"\n",
    "    index = np.arange(len(names_index))\n",
    "\n",
    "    importance_desc = sorted(importance)\n",
    "    feature_space = []\n",
    "    for i in range(29, -1, -1):\n",
    "        feature_space.append(names_index[indices[i]])\n",
    "\n",
    "    fig, ax = plt.subplots(figsize=(10, 10))\n",
    "\n",
    "    \n",
    "    plt.title('Feature importances for Random Forest Model\\\n",
    "    \\nBreast Cancer (Diagnostic)')\n",
    "    plt.barh(index,\n",
    "         importance_desc,\n",
    "         align=\"center\",\n",
    "         color = '#875FDB')\n",
    "    plt.yticks(index,\n",
    "           feature_space)\n",
    "\n",
    "    plt.ylim(-1, 30)\n",
    "    plt.xlim(0, max(importance_desc))\n",
    "    plt.xlabel('Mean Decrease in Gini')\n",
    "    plt.ylabel('Feature')\n",
    "\n",
    "    plt.show()\n",
    "    plt.close()\n",
    "\n",
    "variable_importance_plot(importances_rfc, indices_rfc)"
   ]
  },
  {
   "cell_type": "markdown",
   "metadata": {},
   "source": [
    "lets go on with cross-valdiation and look at how predictive power of our model is. Cross validation helps in understadting the generalization ofour model ( tells us whether our model is baised or not by averaging the predictions for different sets)"
   ]
  },
  {
   "cell_type": "code",
   "execution_count": 36,
   "metadata": {},
   "outputs": [],
   "source": [
    "# 10 fold cross-valdiation\n",
    "from sklearn.model_selection import KFold,cross_val_score\n",
    "\"\"\"\n",
    "    Purpose\n",
    "    ----------\n",
    "    Function helps automate cross validation processes while including\n",
    "    option to print metrics or store in variable\n",
    "\n",
    "    Parameters\n",
    "    ----------\n",
    "    fit: Fitted model\n",
    "    train:  Data_frame containing 80% of original dataframe\n",
    "    val:     data_frame containing the respective target vaues\n",
    "                  for the training_set\n",
    "    print_results: Boolean, if true prints the metrics, else saves metrics as\n",
    "                  variables\n",
    "\n",
    "    Returns\n",
    "    ----------\n",
    "    scores.mean(): Float representing cross validation score\n",
    "    scores.std() / 2: Float representing the standard error (derived\n",
    "            from cross validation score's standard deviation)\"\"\"\n",
    "    \n",
    "def cross_val_metric(fit,train, val, print_results=True):\n",
    "    n= KFold(n_splits=10)\n",
    "    scores=cross_val_score(fit, train,val,cv=n)\n",
    "    if print_results:\n",
    "        print(\"accuracy: {0:0.3f} (+/-{1:0.3f})\".format(scores.mean(),scores.std()/2))\n",
    "    else:\n",
    "        return scores.mean(),scores.std()/2\n",
    "        "
   ]
  },
  {
   "cell_type": "code",
   "execution_count": 37,
   "metadata": {},
   "outputs": [
    {
     "name": "stdout",
     "output_type": "stream",
     "text": [
      "accuracy: 0.947 (+/-0.019)\n"
     ]
    }
   ],
   "source": [
    "cross_val_metric(model_rfc,train_x,train_y,print_results=True)"
   ]
  },
  {
   "cell_type": "markdown",
   "metadata": {},
   "source": [
    "Test Set Metrics\n",
    "\n",
    "Using the test set that was created earlier, let's examine another metric for the evaluation of our model. You'll recall that that we didn't touch the test set until now — after we had completed hyperparamter optimization — to avoid the problem of data leakage. "
   ]
  },
  {
   "cell_type": "code",
   "execution_count": 38,
   "metadata": {},
   "outputs": [],
   "source": [
    "predictions_rfc=model_rfc.predict(test_x)"
   ]
  },
  {
   "cell_type": "code",
   "execution_count": 39,
   "metadata": {},
   "outputs": [],
   "source": [
    "test_cross=pd.crosstab(index=test_y,columns=predictions_rfc)"
   ]
  },
  {
   "cell_type": "code",
   "execution_count": 40,
   "metadata": {},
   "outputs": [],
   "source": [
    "test_cross=test_cross.rename(columns={0:\"Benign\",1:\"Malignant\"})\n",
    "test_cross.index=[\"Bengin\",\"Malignant\"]\n",
    "test_cross.columns.name=\"n=114\""
   ]
  },
  {
   "cell_type": "code",
   "execution_count": 41,
   "metadata": {},
   "outputs": [
    {
     "data": {
      "text/html": [
       "<div>\n",
       "<style scoped>\n",
       "    .dataframe tbody tr th:only-of-type {\n",
       "        vertical-align: middle;\n",
       "    }\n",
       "\n",
       "    .dataframe tbody tr th {\n",
       "        vertical-align: top;\n",
       "    }\n",
       "\n",
       "    .dataframe thead th {\n",
       "        text-align: right;\n",
       "    }\n",
       "</style>\n",
       "<table border=\"1\" class=\"dataframe\">\n",
       "  <thead>\n",
       "    <tr style=\"text-align: right;\">\n",
       "      <th>n=114</th>\n",
       "      <th>Benign</th>\n",
       "      <th>Malignant</th>\n",
       "    </tr>\n",
       "  </thead>\n",
       "  <tbody>\n",
       "    <tr>\n",
       "      <th>Bengin</th>\n",
       "      <td>70</td>\n",
       "      <td>1</td>\n",
       "    </tr>\n",
       "    <tr>\n",
       "      <th>Malignant</th>\n",
       "      <td>3</td>\n",
       "      <td>40</td>\n",
       "    </tr>\n",
       "  </tbody>\n",
       "</table>\n",
       "</div>"
      ],
      "text/plain": [
       "n=114      Benign  Malignant\n",
       "Bengin         70          1\n",
       "Malignant       3         40"
      ]
     },
     "execution_count": 41,
     "metadata": {},
     "output_type": "execute_result"
    }
   ],
   "source": [
    "#confusion matrix\n",
    "test_cross"
   ]
  },
  {
   "cell_type": "code",
   "execution_count": 61,
   "metadata": {},
   "outputs": [
    {
     "name": "stdout",
     "output_type": "stream",
     "text": [
      "mean accuracy of tet set 0.965\n"
     ]
    }
   ],
   "source": [
    "accuracy_rfc=model_rfc.score(test_x,test_y)\n",
    "\n",
    "print(\"mean accuracy of tet set {0:.3f}\".format(accuracy_rfc))"
   ]
  },
  {
   "cell_type": "code",
   "execution_count": 62,
   "metadata": {},
   "outputs": [
    {
     "name": "stdout",
     "output_type": "stream",
     "text": [
      "The test error rate for our model is:  0.0351\n"
     ]
    }
   ],
   "source": [
    "# Here we calculate the test error rate!\n",
    "test_error_rate_rfc = 1 - accuracy_rfc\n",
    "print(\"The test error rate for our model is: {0: .4f}\".format(test_error_rate_rfc))"
   ]
  },
  {
   "cell_type": "code",
   "execution_count": 69,
   "metadata": {},
   "outputs": [],
   "source": [
    "#ROC curve metrics\n",
    "from sklearn.metrics import roc_curve,auc\n",
    "fpr2, tpr2, _ = roc_curve(predictions_rfc,\n",
    "                      test_y)\n",
    "predictions_prob = model_rfc.predict_proba(test_x)[:, 1]"
   ]
  },
  {
   "cell_type": "code",
   "execution_count": 70,
   "metadata": {},
   "outputs": [],
   "source": [
    "auc_rfc=auc(fpr,tpr)"
   ]
  },
  {
   "cell_type": "code",
   "execution_count": 71,
   "metadata": {},
   "outputs": [],
   "source": [
    "def plot_roc_curve(fpr, tpr, auc, mod, xlim=None, ylim=None):\n",
    "    \"\"\"\n",
    "    Purpose\n",
    "    ----------\n",
    "    Function creates ROC Curve for respective model given selected parameters.\n",
    "    Optional x and y limits to zoom into graph\n",
    "\n",
    "    Parameters\n",
    "    ----------\n",
    "    fpr:  Array returned from sklearn.metrics.roc_curve for increasing\n",
    "         false positive rates\n",
    "    tpr:  Array returned from sklearn.metrics.roc_curve for increasing\n",
    "         true positive rates\n",
    "    auc:  Float returned from sklearn.metrics.auc (Area under Curve)\n",
    "    mod:  String represenation of appropriate model, can only contain the\n",
    "         following: ['knn', 'rf', 'nn']\n",
    "    xlim: Set upper and lower x-limits\n",
    "    ylim: Set upper and lower y-limits\n",
    "\n",
    "    Returns:\n",
    "    ----------\n",
    "    Returns plot of Receiving Operating Curve for specific model. Allowing user to\n",
    "    specify x and y-limits.\n",
    "    \"\"\"\n",
    "    mod_list = ['knn', 'rf', 'nn']\n",
    "    method = [('Kth Nearest Neighbor', 'deeppink'),\n",
    "          ('Random Forest', 'red'),\n",
    "          ('Neural Network', 'purple')]\n",
    "\n",
    "    plot_title = ''\n",
    "    color_value = ''\n",
    "    for i in range(0, 3):\n",
    "        if mod_list[i] == mod:\n",
    "            plot_title = method[i][0]\n",
    "            color_value = method[i][1]\n",
    "\n",
    "    fig, ax = plt.subplots(figsize=(10, 10))\n",
    "    \n",
    "\n",
    "    plt.plot(fpr, tpr,\n",
    "         color=color_value,\n",
    "         linewidth=1)\n",
    "    plt.title('ROC Curve For {0} (AUC = {1: 0.3f}) \\\n",
    "          \\nBreast Cancer Diagnostic'\\\n",
    "          .format(plot_title, auc))\n",
    "\n",
    "    plt.plot([0, 1], [0, 1], 'k--', lw=2) # Add Diagonal line\n",
    "    plt.plot([0, 0], [1, 0], 'k--', lw=2, color = 'black')\n",
    "    plt.plot([1, 0], [1, 1], 'k--', lw=2, color = 'black')\n",
    "    if xlim is not None:\n",
    "        plt.xlim(*xlim)\n",
    "    if ylim is not None:\n",
    "        plt.ylim(*ylim)\n",
    "    plt.xlabel('False Positive Rate')\n",
    "    plt.ylabel('True Positive Rate')\n",
    "    plt.show()\n",
    "    plt.close()"
   ]
  },
  {
   "cell_type": "code",
   "execution_count": 72,
   "metadata": {},
   "outputs": [
    {
     "data": {
      "image/png": "[encoded data removed]",
      "text/plain": [
       "<Figure size 720x720 with 1 Axes>"
      ]
     },
     "metadata": {
      "needs_background": "light"
     },
     "output_type": "display_data"
    }
   ],
   "source": [
    "plot_roc_curve(fpr, tpr, auc_rfc, 'rf',\n",
    "           xlim=(-0.01, 1.05),\n",
    "           ylim=(0.001, 1.05))"
   ]
  },
  {
   "cell_type": "code",
   "execution_count": 84,
   "metadata": {},
   "outputs": [],
   "source": [
    "\"\"\"Purpose\n",
    "----------\n",
    "Function helps automate the report generated by the sklearn package. Useful for multiple model comparison\n",
    "\n",
    "Parameters\n",
    "----------\n",
    "Predictions:\n",
    "The predictions made by the algorithm used alg_name: String containing the name of the algorithm used\n",
    "\n",
    "Returns:\n",
    "----------\n",
    "Returns classification report generated from sklearn.\"\"\"\n",
    "def print_class_report(predictions, alg_name): \n",
    "    print('Classification Report for {0}:'.format(alg_name))\n",
    "    print(classification_report(predictions,\n",
    "        test_y,\n",
    "        target_names = dx))\n"
   ]
  },
  {
   "cell_type": "code",
   "execution_count": 85,
   "metadata": {},
   "outputs": [
    {
     "name": "stdout",
     "output_type": "stream",
     "text": [
      "Classification Report for Random Forest:\n",
      "              precision    recall  f1-score   support\n",
      "\n",
      "      Benign       0.99      0.96      0.97        73\n",
      "   Malignant       0.93      0.98      0.95        41\n",
      "\n",
      "   micro avg       0.96      0.96      0.96       114\n",
      "   macro avg       0.96      0.97      0.96       114\n",
      "weighted avg       0.97      0.96      0.97       114\n",
      "\n"
     ]
    }
   ],
   "source": [
    "from sklearn.metrics import classification_report\n",
    "class_report = print_class_report(predictions_rfc, 'Random Forest')"
   ]
  },
  {
   "cell_type": "code",
   "execution_count": null,
   "metadata": {},
   "outputs": [],
   "source": []
  }
 ],
 "metadata": {
  "kernelspec": {
   "display_name": "Python 3",
   "language": "python",
   "name": "python3"
  },
  "language_info": {
   "codemirror_mode": {
    "name": "ipython",
    "version": 3
   },
   "file_extension": ".py",
   "mimetype": "text/x-python",
   "name": "python",
   "nbconvert_exporter": "python",
   "pygments_lexer": "ipython3",
   "version": "3.7.2"
  }
 },
 "nbformat": 4,
 "nbformat_minor": 2
}
